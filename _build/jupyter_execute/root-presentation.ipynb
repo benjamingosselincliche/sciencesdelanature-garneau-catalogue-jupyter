{
 "cells": [
  {
   "cell_type": "markdown",
   "id": "af244aa7",
   "metadata": {},
   "source": [
    "# Présentation\n",
    "\n",
    "Ce site contient des exemples de code en python concernant des sujets du programme collégial de Sciences de la Nature. Les notebooks couvrent tous les domaines du programme: biologie, chimie, physique, mathématique et, par le fait même, informatique. Ces notebooks sont détaillés en commentaires et explications pédagogiques.\n",
    "\n",
    "\n",
    "Plus spécifiquement, les divers exemples traités sont : le point d'ébullition de l'eau, les données stellaires, les modèles quelconques, les mathématiques symboliques (fonction, dérivée, intégrale, matrice), les gaz à effets de serre, la cinématique et les différences finies, le contrôle de température d'une serre, le triangle de Sierpinsky, les équations différentielles de la dynamique des populations, la mécanique orbitale et la cartographie.\n",
    "\n",
    "Le repo github est [ici](https://github.com/benjamingosselincliche/sciencesdelanature-garneau-catalogue-jupyter).\n",
    "\n",
    "Table des matières:\n",
    "\n",
    "```{tableofcontents}\n",
    "```"
   ]
  }
 ],
 "metadata": {
  "jupytext": {
   "text_representation": {
    "extension": ".md",
    "format_name": "myst"
   }
  },
  "kernelspec": {
   "display_name": "Python 3",
   "language": "python",
   "name": "python3"
  },
  "source_map": [
   10
  ]
 },
 "nbformat": 4,
 "nbformat_minor": 5
}