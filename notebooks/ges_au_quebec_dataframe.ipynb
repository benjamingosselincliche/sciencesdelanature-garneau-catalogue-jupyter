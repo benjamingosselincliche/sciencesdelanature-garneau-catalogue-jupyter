{
 "cells": [
  {
   "cell_type": "markdown",
   "id": "4211fe22",
   "metadata": {},
   "source": [
    "# Les gaz à effet de serre au Québec\n",
    "---\n",
    "\n",
    "<div style=\"text-align: center;\">\n",
    "    <div style=\"display: inline-block; position: relative; width: 350px;\">\n",
    "        <img src=\"../img/_cc50555b-1857-4a03-a71b-744befcfb323.jpeg\" alt=\"Dessin\" style=\"width: 100%;\"/>\n",
    "        <p style=\"text-align: center; margin-top: 5px;\">\n",
    "            <span style=\"font-style: italic; font-size: 16px;\"> Solution simple </span><br/>\n",
    "            <span style=\"font-style: italic; font-size: 12px;\">Image générée par DALL·E 3, 2024 </span>\n",
    "        </p>\n",
    "    </div>\n",
    "</div>\n",
    "\n"
   ]
  },
  {
   "cell_type": "markdown",
   "id": "2845e61c",
   "metadata": {},
   "source": [
    "## Mise en contexte:\n",
    "\n",
    "Les données de l'inventaire québécois des émissions de gaz à effet de serre, sont disponibles chez [Données Québec](https://www.donneesquebec.ca/recherche/dataset/inventaire-quebecois-des-emissions-de-gaz-a-effet-de-serre \"https://www.donneesquebec.ca/recherche/dataset/inventaire-quebecois-des-emissions-de-gaz-a-effet-de-serre\"):\n",
    "\n",
    "> \"L’inventaire des émissions de gaz à effet de serre (GES) produits par l’activité humaine au Québec est tenu à jour annuellement depuis 1990 \n",
    "par le ministère de l’Environnement, de la Lutte contre les changements climatiques, de la Faune et des Parcs. Cet inventaire est établi à partir de données recueillies auprès d’entreprises et d’institutions et se base sur des données obtenues principalement de Statistique Canada, d’Environnement et Changement climatique Canada (ECCC) et de ministères et organismes du Québec.\" \n",
    "\n",
    "Dernière modification du jeux de données pour ce notebook : 2022-12-21 \n",
    "\n",
    "## Objectifs:\n",
    "\n",
    "L'objectif de ce notebook est d'utiliser la méthode `groupby`\n",
    " relative aux dataframes afin d'obtenir le total des GES émis par secteur d'activité."
   ]
  },
  {
   "cell_type": "markdown",
   "id": "f0abcda5",
   "metadata": {},
   "source": [
    "---\n",
    "# Importation des données"
   ]
  },
  {
   "cell_type": "markdown",
   "id": "b5402a49",
   "metadata": {},
   "source": [
    "Afin de lire et d'explorer les données, nous utilisons la librairie pandas avec toutes les fonctionnalités des Dataframes. "
   ]
  },
  {
   "cell_type": "code",
   "execution_count": 1,
   "id": "22f07e6a",
   "metadata": {},
   "outputs": [
    {
     "data": {
      "text/html": [
       "<div>\n",
       "<style scoped>\n",
       "    .dataframe tbody tr th:only-of-type {\n",
       "        vertical-align: middle;\n",
       "    }\n",
       "\n",
       "    .dataframe tbody tr th {\n",
       "        vertical-align: top;\n",
       "    }\n",
       "\n",
       "    .dataframe thead th {\n",
       "        text-align: right;\n",
       "    }\n",
       "</style>\n",
       "<table border=\"1\" class=\"dataframe\">\n",
       "  <thead>\n",
       "    <tr style=\"text-align: right;\">\n",
       "      <th></th>\n",
       "      <th>Annee</th>\n",
       "      <th>Secteur</th>\n",
       "      <th>Sous-secteur</th>\n",
       "      <th>Categorie</th>\n",
       "      <th>Emissions(t_eq_CO2)</th>\n",
       "    </tr>\n",
       "  </thead>\n",
       "  <tbody>\n",
       "    <tr>\n",
       "      <th>0</th>\n",
       "      <td>1990</td>\n",
       "      <td>Transports</td>\n",
       "      <td>Transport routier</td>\n",
       "      <td>Automobiles</td>\n",
       "      <td>1.085804e+07</td>\n",
       "    </tr>\n",
       "    <tr>\n",
       "      <th>1</th>\n",
       "      <td>1990</td>\n",
       "      <td>Transports</td>\n",
       "      <td>Transport routier</td>\n",
       "      <td>Camions légers</td>\n",
       "      <td>3.636960e+06</td>\n",
       "    </tr>\n",
       "    <tr>\n",
       "      <th>2</th>\n",
       "      <td>1990</td>\n",
       "      <td>Transports</td>\n",
       "      <td>Transport routier</td>\n",
       "      <td>Véhicules lourds</td>\n",
       "      <td>3.602432e+06</td>\n",
       "    </tr>\n",
       "    <tr>\n",
       "      <th>3</th>\n",
       "      <td>1990</td>\n",
       "      <td>Transports</td>\n",
       "      <td>Transport routier</td>\n",
       "      <td>Autres transports routiers</td>\n",
       "      <td>1.824648e+04</td>\n",
       "    </tr>\n",
       "    <tr>\n",
       "      <th>4</th>\n",
       "      <td>1990</td>\n",
       "      <td>Transports</td>\n",
       "      <td>Autres transports</td>\n",
       "      <td>Véhicules hors route - Agriculture et foresterie</td>\n",
       "      <td>9.985400e+05</td>\n",
       "    </tr>\n",
       "    <tr>\n",
       "      <th>...</th>\n",
       "      <td>...</td>\n",
       "      <td>...</td>\n",
       "      <td>...</td>\n",
       "      <td>...</td>\n",
       "      <td>...</td>\n",
       "    </tr>\n",
       "    <tr>\n",
       "      <th>1445</th>\n",
       "      <td>2020</td>\n",
       "      <td>Matières résiduelles</td>\n",
       "      <td>Lieux d'enfouissement réservés aux usines de p...</td>\n",
       "      <td>Lieux d'enfouissement réservés aux usines de p...</td>\n",
       "      <td>6.994292e+04</td>\n",
       "    </tr>\n",
       "    <tr>\n",
       "      <th>1446</th>\n",
       "      <td>2020</td>\n",
       "      <td>Matières résiduelles</td>\n",
       "      <td>Traitement biologique des matières résiduelles</td>\n",
       "      <td>Traitement biologique des matières résiduelles</td>\n",
       "      <td>7.126235e+04</td>\n",
       "    </tr>\n",
       "    <tr>\n",
       "      <th>1447</th>\n",
       "      <td>2020</td>\n",
       "      <td>Matières résiduelles</td>\n",
       "      <td>Traitement et rejet des eaux usées municipales</td>\n",
       "      <td>Traitement et rejet des eaux usées municipales</td>\n",
       "      <td>4.134772e+05</td>\n",
       "    </tr>\n",
       "    <tr>\n",
       "      <th>1448</th>\n",
       "      <td>2020</td>\n",
       "      <td>Matières résiduelles</td>\n",
       "      <td>Incinération des matières résiduelles</td>\n",
       "      <td>Incinération des matières résiduelles</td>\n",
       "      <td>2.124926e+05</td>\n",
       "    </tr>\n",
       "    <tr>\n",
       "      <th>1449</th>\n",
       "      <td>2020</td>\n",
       "      <td>Électricité</td>\n",
       "      <td>Électricité</td>\n",
       "      <td>Centrales thermiques publiques</td>\n",
       "      <td>2.290484e+05</td>\n",
       "    </tr>\n",
       "  </tbody>\n",
       "</table>\n",
       "<p>1450 rows × 5 columns</p>\n",
       "</div>"
      ],
      "text/plain": [
       "      Annee               Secteur  \\\n",
       "0      1990            Transports   \n",
       "1      1990            Transports   \n",
       "2      1990            Transports   \n",
       "3      1990            Transports   \n",
       "4      1990            Transports   \n",
       "...     ...                   ...   \n",
       "1445   2020  Matières résiduelles   \n",
       "1446   2020  Matières résiduelles   \n",
       "1447   2020  Matières résiduelles   \n",
       "1448   2020  Matières résiduelles   \n",
       "1449   2020           Électricité   \n",
       "\n",
       "                                           Sous-secteur  \\\n",
       "0                                     Transport routier   \n",
       "1                                     Transport routier   \n",
       "2                                     Transport routier   \n",
       "3                                     Transport routier   \n",
       "4                                     Autres transports   \n",
       "...                                                 ...   \n",
       "1445  Lieux d'enfouissement réservés aux usines de p...   \n",
       "1446     Traitement biologique des matières résiduelles   \n",
       "1447     Traitement et rejet des eaux usées municipales   \n",
       "1448              Incinération des matières résiduelles   \n",
       "1449                                        Électricité   \n",
       "\n",
       "                                              Categorie  Emissions(t_eq_CO2)  \n",
       "0                                           Automobiles         1.085804e+07  \n",
       "1                                        Camions légers         3.636960e+06  \n",
       "2                                      Véhicules lourds         3.602432e+06  \n",
       "3                            Autres transports routiers         1.824648e+04  \n",
       "4      Véhicules hors route - Agriculture et foresterie         9.985400e+05  \n",
       "...                                                 ...                  ...  \n",
       "1445  Lieux d'enfouissement réservés aux usines de p...         6.994292e+04  \n",
       "1446     Traitement biologique des matières résiduelles         7.126235e+04  \n",
       "1447     Traitement et rejet des eaux usées municipales         4.134772e+05  \n",
       "1448              Incinération des matières résiduelles         2.124926e+05  \n",
       "1449                     Centrales thermiques publiques         2.290484e+05  \n",
       "\n",
       "[1450 rows x 5 columns]"
      ]
     },
     "execution_count": 1,
     "metadata": {},
     "output_type": "execute_result"
    }
   ],
   "source": [
    "# Initialisation de la librairie Pandas.\n",
    "import pandas as pd\n",
    "\n",
    "# Importation des données. Le fichier csv (coma-separated-value) se nomme \"inventaire-ges.csv\" \n",
    "# et les données sont séparées par des points-virgules (;).\n",
    "df = pd.read_csv('../data/inventaire-ges.csv',sep = ';')  \n",
    "df"
   ]
  },
  {
   "cell_type": "code",
   "execution_count": 2,
   "id": "6d1ad999",
   "metadata": {
    "lines_to_next_cell": 2
   },
   "outputs": [
    {
     "data": {
      "text/plain": [
       "(1450, 5)"
      ]
     },
     "execution_count": 2,
     "metadata": {},
     "output_type": "execute_result"
    }
   ],
   "source": [
    "# Le nombre de ligne (rows) et de colonne (columns) est: \n",
    "df.shape"
   ]
  },
  {
   "cell_type": "code",
   "execution_count": 3,
   "id": "14b59806",
   "metadata": {
    "lines_to_next_cell": 0
   },
   "outputs": [
    {
     "data": {
      "text/plain": [
       "Index(['Annee', 'Secteur', 'Sous-secteur', 'Categorie', 'Emissions(t_eq_CO2)'], dtype='object')"
      ]
     },
     "execution_count": 3,
     "metadata": {},
     "output_type": "execute_result"
    }
   ],
   "source": [
    "# Le nom des colonnes, sous forme d'une array numpy. \n",
    "df.columns"
   ]
  },
  {
   "cell_type": "code",
   "execution_count": 4,
   "id": "05ecb0b9",
   "metadata": {},
   "outputs": [
    {
     "data": {
      "text/plain": [
       "['Annee', 'Secteur', 'Sous-secteur', 'Categorie', 'Emissions(t_eq_CO2)']"
      ]
     },
     "execution_count": 4,
     "metadata": {},
     "output_type": "execute_result"
    }
   ],
   "source": [
    "# Le nom des colonnes, sous forme d'une liste normale.\n",
    "df.columns.tolist()"
   ]
  },
  {
   "cell_type": "code",
   "execution_count": 5,
   "id": "f87918dd",
   "metadata": {},
   "outputs": [
    {
     "data": {
      "text/plain": [
       "Annee                    int64\n",
       "Secteur                 object\n",
       "Sous-secteur            object\n",
       "Categorie               object\n",
       "Emissions(t_eq_CO2)    float64\n",
       "dtype: object"
      ]
     },
     "execution_count": 5,
     "metadata": {},
     "output_type": "execute_result"
    }
   ],
   "source": [
    "# Le types de variables dans chaque colonne: \n",
    "df.dtypes"
   ]
  },
  {
   "cell_type": "code",
   "execution_count": 6,
   "id": "e8e3ed1b",
   "metadata": {},
   "outputs": [
    {
     "data": {
      "text/plain": [
       "RangeIndex(start=0, stop=1450, step=1)"
      ]
     },
     "execution_count": 6,
     "metadata": {},
     "output_type": "execute_result"
    }
   ],
   "source": [
    "# L'index du dataframe: \n",
    "df.index"
   ]
  },
  {
   "cell_type": "code",
   "execution_count": 7,
   "id": "ae6f2471",
   "metadata": {
    "lines_to_next_cell": 2
   },
   "outputs": [
    {
     "data": {
      "text/plain": [
       "0       1990\n",
       "1       1990\n",
       "2       1990\n",
       "3       1990\n",
       "4       1990\n",
       "        ... \n",
       "1445    2020\n",
       "1446    2020\n",
       "1447    2020\n",
       "1448    2020\n",
       "1449    2020\n",
       "Name: Annee, Length: 1450, dtype: int64"
      ]
     },
     "execution_count": 7,
     "metadata": {},
     "output_type": "execute_result"
    }
   ],
   "source": [
    "# Pour travailler les éléments d'une seule colonne, il faut travailler avec les Séries:\n",
    "df['Annee']"
   ]
  },
  {
   "cell_type": "code",
   "execution_count": 8,
   "id": "8509449b",
   "metadata": {
    "lines_to_next_cell": 0
   },
   "outputs": [
    {
     "data": {
      "text/plain": [
       "['Transports',\n",
       " 'Industries',\n",
       " 'Résidentiel, commercial et institutionnel',\n",
       " 'Agriculture',\n",
       " 'Matières résiduelles',\n",
       " 'Électricité']"
      ]
     },
     "execution_count": 8,
     "metadata": {},
     "output_type": "execute_result"
    }
   ],
   "source": [
    "# Élements uniques de la colonne Secteur. Sous forme d'une liste normale.\n",
    "secteurs = df['Secteur'].unique().tolist()\n",
    "secteurs"
   ]
  },
  {
   "cell_type": "code",
   "execution_count": 9,
   "id": "2692d70c",
   "metadata": {
    "lines_to_next_cell": 0
   },
   "outputs": [
    {
     "data": {
      "text/plain": [
       "['Transport routier',\n",
       " 'Autres transports',\n",
       " 'Transport aérien',\n",
       " 'Transport ferroviaire',\n",
       " 'Transport maritime',\n",
       " 'Combustion industrielle',\n",
       " 'Procédés industriels et utilisation des produits',\n",
       " 'Émissions fugitives',\n",
       " 'Résidentiel',\n",
       " 'Commercial et institutionnel',\n",
       " 'Fermentation entérique',\n",
       " 'Gestion du fumier',\n",
       " 'Gestion des sols agricoles',\n",
       " 'Chaulage, urée et autres engrais carbonés',\n",
       " \"Lieux d'enfouissement municipaux \",\n",
       " \"Lieux d'enfouissement réservés aux usines de pâtes et papiers\",\n",
       " 'Traitement et rejet des eaux usées municipales',\n",
       " 'Incinération des matières résiduelles',\n",
       " 'Électricité',\n",
       " 'Traitement biologique des matières résiduelles']"
      ]
     },
     "execution_count": 9,
     "metadata": {},
     "output_type": "execute_result"
    }
   ],
   "source": [
    "# Élements uniques de la colonne Sous-secteur. Sous forme d'une liste normale.\n",
    "df['Sous-secteur'].unique().tolist()"
   ]
  },
  {
   "cell_type": "code",
   "execution_count": 10,
   "id": "69f2a66f",
   "metadata": {},
   "outputs": [
    {
     "data": {
      "text/plain": [
       "['Automobiles',\n",
       " 'Camions légers',\n",
       " 'Véhicules lourds',\n",
       " 'Autres transports routiers',\n",
       " 'Véhicules hors route - Agriculture et foresterie',\n",
       " 'Véhicules hors route - Commercial et institutionnel',\n",
       " 'Véhicules hors route - Fabrication, mines et construction',\n",
       " 'Véhicules hors route - Résidentiel',\n",
       " 'Véhicules hors route - Autres',\n",
       " 'Pipelines',\n",
       " 'Transport aérien intérieur',\n",
       " 'Transport aérien militaire',\n",
       " 'Transport ferroviaire',\n",
       " 'Transport maritime intérieur',\n",
       " 'Transport maritime pêcheries',\n",
       " 'Transport maritime militaire',\n",
       " 'Industries de raffinage du pétrole',\n",
       " 'Exploitation minière',\n",
       " 'Production de métaux ferreux',\n",
       " 'Usines de pâtes et papiers',\n",
       " 'Industries chimiques',\n",
       " 'Production de minéraux non métalliques',\n",
       " 'Production de métaux non ferreux',\n",
       " 'Autres manufacturiers',\n",
       " 'Construction',\n",
       " 'Agriculture et foresterie',\n",
       " \"Production d'aluminium et de magnésium\",\n",
       " 'Autres utilisations non énergétiques',\n",
       " \"Fabrication et utilisation d'autres produits\",\n",
       " 'Pétrole et gaz naturel',\n",
       " 'Énergie fossile',\n",
       " 'Chauffage au bois',\n",
       " 'Commerces et Institutions',\n",
       " 'Administration publique',\n",
       " 'Fermentation entérique',\n",
       " 'Gestion du fumier',\n",
       " 'Gestion des sols agricoles',\n",
       " 'Chaulage, urée et autres engrais carbonés',\n",
       " \"Lieux d'enfouissement municipaux \",\n",
       " \"Lieux d'enfouissement réservés aux usines de pâtes et papiers\",\n",
       " 'Traitement et rejet des eaux usées municipales',\n",
       " 'Incinération des matières résiduelles',\n",
       " 'Centrales thermiques publiques',\n",
       " 'Traitement biologique des matières résiduelles',\n",
       " \"Autres production et consommation d'halocarbures, de SF6 et de NF3\"]"
      ]
     },
     "execution_count": 10,
     "metadata": {},
     "output_type": "execute_result"
    }
   ],
   "source": [
    "# Élements uniques de la colonne 'Categorie'. Sous forme d'une liste normale.\n",
    "df['Categorie'].unique().tolist()"
   ]
  },
  {
   "cell_type": "code",
   "execution_count": 11,
   "id": "42d7891b",
   "metadata": {},
   "outputs": [
    {
     "data": {
      "text/plain": [
       "Annee                  0\n",
       "Secteur                0\n",
       "Sous-secteur           0\n",
       "Categorie              0\n",
       "Emissions(t_eq_CO2)    0\n",
       "dtype: int64"
      ]
     },
     "execution_count": 11,
     "metadata": {},
     "output_type": "execute_result"
    }
   ],
   "source": [
    "# Élements absents\n",
    "df.isna().sum()"
   ]
  },
  {
   "cell_type": "code",
   "execution_count": 12,
   "id": "b5dcb912",
   "metadata": {},
   "outputs": [
    {
     "data": {
      "text/plain": [
       "Annee                  0\n",
       "Secteur                0\n",
       "Sous-secteur           0\n",
       "Categorie              0\n",
       "Emissions(t_eq_CO2)    0\n",
       "dtype: int64"
      ]
     },
     "execution_count": 12,
     "metadata": {},
     "output_type": "execute_result"
    }
   ],
   "source": [
    "# Élements absents\n",
    "df.isnull().sum()"
   ]
  },
  {
   "cell_type": "markdown",
   "id": "d38c62db",
   "metadata": {},
   "source": [
    "---\n",
    "# Construction de la nouvelle dataframe: \n",
    "\n",
    "Ici, nous construisons une nouvelle dataframe nommée df_secteurs_total qui va contenir le total des GES émis par secteur d'activité: Transports, Industries, Résidentiel, commercial et institutionnel, Agriculture, Matières résiduelles et Électricité.\n",
    "\n",
    "Les étapes pour construire df_secteurs_total sont:"
   ]
  },
  {
   "cell_type": "markdown",
   "id": "014b60dd",
   "metadata": {},
   "source": [
    "---\n",
    "## Construction 1: obtention du total par année:"
   ]
  },
  {
   "cell_type": "code",
   "execution_count": 13,
   "id": "9605bbdd",
   "metadata": {},
   "outputs": [
    {
     "data": {
      "text/html": [
       "<div>\n",
       "<style scoped>\n",
       "    .dataframe tbody tr th:only-of-type {\n",
       "        vertical-align: middle;\n",
       "    }\n",
       "\n",
       "    .dataframe tbody tr th {\n",
       "        vertical-align: top;\n",
       "    }\n",
       "\n",
       "    .dataframe thead th {\n",
       "        text-align: right;\n",
       "    }\n",
       "</style>\n",
       "<table border=\"1\" class=\"dataframe\">\n",
       "  <thead>\n",
       "    <tr style=\"text-align: right;\">\n",
       "      <th></th>\n",
       "      <th>Annee</th>\n",
       "      <th>Emissions(t_eq_CO2)</th>\n",
       "    </tr>\n",
       "  </thead>\n",
       "  <tbody>\n",
       "    <tr>\n",
       "      <th>0</th>\n",
       "      <td>1990</td>\n",
       "      <td>1.085804e+07</td>\n",
       "    </tr>\n",
       "    <tr>\n",
       "      <th>1</th>\n",
       "      <td>1990</td>\n",
       "      <td>3.636960e+06</td>\n",
       "    </tr>\n",
       "    <tr>\n",
       "      <th>2</th>\n",
       "      <td>1990</td>\n",
       "      <td>3.602432e+06</td>\n",
       "    </tr>\n",
       "    <tr>\n",
       "      <th>3</th>\n",
       "      <td>1990</td>\n",
       "      <td>1.824648e+04</td>\n",
       "    </tr>\n",
       "    <tr>\n",
       "      <th>4</th>\n",
       "      <td>1990</td>\n",
       "      <td>9.985400e+05</td>\n",
       "    </tr>\n",
       "    <tr>\n",
       "      <th>...</th>\n",
       "      <td>...</td>\n",
       "      <td>...</td>\n",
       "    </tr>\n",
       "    <tr>\n",
       "      <th>1445</th>\n",
       "      <td>2020</td>\n",
       "      <td>6.994292e+04</td>\n",
       "    </tr>\n",
       "    <tr>\n",
       "      <th>1446</th>\n",
       "      <td>2020</td>\n",
       "      <td>7.126235e+04</td>\n",
       "    </tr>\n",
       "    <tr>\n",
       "      <th>1447</th>\n",
       "      <td>2020</td>\n",
       "      <td>4.134772e+05</td>\n",
       "    </tr>\n",
       "    <tr>\n",
       "      <th>1448</th>\n",
       "      <td>2020</td>\n",
       "      <td>2.124926e+05</td>\n",
       "    </tr>\n",
       "    <tr>\n",
       "      <th>1449</th>\n",
       "      <td>2020</td>\n",
       "      <td>2.290484e+05</td>\n",
       "    </tr>\n",
       "  </tbody>\n",
       "</table>\n",
       "<p>1450 rows × 2 columns</p>\n",
       "</div>"
      ],
      "text/plain": [
       "      Annee  Emissions(t_eq_CO2)\n",
       "0      1990         1.085804e+07\n",
       "1      1990         3.636960e+06\n",
       "2      1990         3.602432e+06\n",
       "3      1990         1.824648e+04\n",
       "4      1990         9.985400e+05\n",
       "...     ...                  ...\n",
       "1445   2020         6.994292e+04\n",
       "1446   2020         7.126235e+04\n",
       "1447   2020         4.134772e+05\n",
       "1448   2020         2.124926e+05\n",
       "1449   2020         2.290484e+05\n",
       "\n",
       "[1450 rows x 2 columns]"
      ]
     },
     "execution_count": 13,
     "metadata": {},
     "output_type": "execute_result"
    }
   ],
   "source": [
    "# Sélectionner les colonnes 'Annee' et 'Emissions(t_eq_CO2)'.\n",
    "df[['Annee','Emissions(t_eq_CO2)']]"
   ]
  },
  {
   "cell_type": "code",
   "execution_count": 14,
   "id": "7411d6e2",
   "metadata": {},
   "outputs": [
    {
     "data": {
      "text/plain": [
       "<pandas.core.groupby.generic.DataFrameGroupBy object at 0x118880200>"
      ]
     },
     "execution_count": 14,
     "metadata": {},
     "output_type": "execute_result"
    }
   ],
   "source": [
    "# Grouper les données par 'Annee'.\n",
    "df[['Annee','Emissions(t_eq_CO2)']].groupby('Annee')"
   ]
  },
  {
   "cell_type": "code",
   "execution_count": 15,
   "id": "a0bdd60d",
   "metadata": {},
   "outputs": [],
   "source": [
    "# Calculer le total des émissions par année.\n",
    "df_total = df[['Annee','Emissions(t_eq_CO2)']].groupby('Annee').sum()\n",
    "df_total;"
   ]
  },
  {
   "cell_type": "code",
   "execution_count": 16,
   "id": "41eb6ce1",
   "metadata": {},
   "outputs": [
    {
     "data": {
      "text/plain": [
       "Index(['Emissions(t_eq_CO2)'], dtype='object')"
      ]
     },
     "execution_count": 16,
     "metadata": {},
     "output_type": "execute_result"
    }
   ],
   "source": [
    "# Afficher les noms des colonnes de la DataFrame résultante.\n",
    "df_total.columns"
   ]
  },
  {
   "cell_type": "code",
   "execution_count": 17,
   "id": "ea33f4c4",
   "metadata": {},
   "outputs": [],
   "source": [
    "# Renommer la colonne des émissions pour indiquer qu'il s'agit du total.\n",
    "df_total = df_total.rename(columns={\"Emissions(t_eq_CO2)\": \"Emissions(t_eq_CO2)-Total\"})"
   ]
  },
  {
   "cell_type": "code",
   "execution_count": 18,
   "id": "9afb3011",
   "metadata": {},
   "outputs": [
    {
     "data": {
      "text/html": [
       "<div>\n",
       "<style scoped>\n",
       "    .dataframe tbody tr th:only-of-type {\n",
       "        vertical-align: middle;\n",
       "    }\n",
       "\n",
       "    .dataframe tbody tr th {\n",
       "        vertical-align: top;\n",
       "    }\n",
       "\n",
       "    .dataframe thead th {\n",
       "        text-align: right;\n",
       "    }\n",
       "</style>\n",
       "<table border=\"1\" class=\"dataframe\">\n",
       "  <thead>\n",
       "    <tr style=\"text-align: right;\">\n",
       "      <th></th>\n",
       "      <th>Emissions(t_eq_CO2)-Total</th>\n",
       "    </tr>\n",
       "  </thead>\n",
       "  <tbody>\n",
       "    <tr>\n",
       "      <th>count</th>\n",
       "      <td>3.100000e+01</td>\n",
       "    </tr>\n",
       "    <tr>\n",
       "      <th>mean</th>\n",
       "      <td>8.276538e+07</td>\n",
       "    </tr>\n",
       "    <tr>\n",
       "      <th>std</th>\n",
       "      <td>3.345179e+06</td>\n",
       "    </tr>\n",
       "    <tr>\n",
       "      <th>min</th>\n",
       "      <td>7.401563e+07</td>\n",
       "    </tr>\n",
       "    <tr>\n",
       "      <th>25%</th>\n",
       "      <td>8.100227e+07</td>\n",
       "    </tr>\n",
       "    <tr>\n",
       "      <th>50%</th>\n",
       "      <td>8.274214e+07</td>\n",
       "    </tr>\n",
       "    <tr>\n",
       "      <th>75%</th>\n",
       "      <td>8.462749e+07</td>\n",
       "    </tr>\n",
       "    <tr>\n",
       "      <th>max</th>\n",
       "      <td>8.958743e+07</td>\n",
       "    </tr>\n",
       "  </tbody>\n",
       "</table>\n",
       "</div>"
      ],
      "text/plain": [
       "       Emissions(t_eq_CO2)-Total\n",
       "count               3.100000e+01\n",
       "mean                8.276538e+07\n",
       "std                 3.345179e+06\n",
       "min                 7.401563e+07\n",
       "25%                 8.100227e+07\n",
       "50%                 8.274214e+07\n",
       "75%                 8.462749e+07\n",
       "max                 8.958743e+07"
      ]
     },
     "execution_count": 18,
     "metadata": {},
     "output_type": "execute_result"
    }
   ],
   "source": [
    "# Décrire statistiquement les données.\n",
    "df_total.describe()"
   ]
  },
  {
   "cell_type": "code",
   "execution_count": 19,
   "id": "516aff41",
   "metadata": {},
   "outputs": [
    {
     "data": {
      "text/plain": [
       "<Axes: title={'center': 'Émissions en fonction du temps'}, xlabel='années', ylabel='Emissions (t_eq_CO2)'>"
      ]
     },
     "execution_count": 19,
     "metadata": {},
     "output_type": "execute_result"
    },
    {
     "data": {
      "image/png": "[encoded data removed]",
      "text/plain": [
       "<Figure size 640x480 with 1 Axes>"
      ]
     },
     "metadata": {},
     "output_type": "display_data"
    }
   ],
   "source": [
    "# Tracer les données pour visualiser les émissions totales par année.\n",
    "df_total.plot(xlabel=\"années\", ylabel=\"Emissions (t_eq_CO2)\", title='Émissions en fonction du temps', legend=None)"
   ]
  },
  {
   "cell_type": "markdown",
   "id": "24e148da",
   "metadata": {},
   "source": [
    "---\n",
    "## Construction 2: obtention du total par année pour le secteur 'Transports':"
   ]
  },
  {
   "cell_type": "code",
   "execution_count": 20,
   "id": "8e0a98eb",
   "metadata": {
    "lines_to_next_cell": 0
   },
   "outputs": [],
   "source": [
    "# Filtrer les données pour le secteur 'Transports' seulement\n",
    "df_transports = df[df['Secteur']=='Transports']\n",
    "# Calculer le total des émissions par année pour le secteur 'Transports'.\n",
    "df_transports_total = df_transports[['Annee','Emissions(t_eq_CO2)']].groupby('Annee').sum()\n",
    "# Renommer la colonne des émissions pour indiquer qu'il s'agit des émissions pour le secteur 'Transports'.\n",
    "df_transports_total = df_transports_total.rename(columns={\"Emissions(t_eq_CO2)\": \"Emissions(t_eq_CO2)-Transports\"})\n",
    "df_transports_total;"
   ]
  },
  {
   "cell_type": "code",
   "execution_count": 21,
   "id": "fa56cb32",
   "metadata": {
    "lines_to_next_cell": 0
   },
   "outputs": [],
   "source": [
    "# Fusionner les DataFrames des totaux globaux et du secteur 'Transports' sur la colonne 'Annee'.\n",
    "df_merge = pd.merge(df_total, df_transports_total, on=[\"Annee\"])\n",
    "# df_merge"
   ]
  },
  {
   "cell_type": "code",
   "execution_count": 22,
   "id": "074a9255",
   "metadata": {},
   "outputs": [],
   "source": [
    "# Alternative pour fusionner les DataFrames.\n",
    "df_merge = df_total.merge(df_transports_total,on=[\"Annee\"])\n",
    "# df_merge"
   ]
  },
  {
   "cell_type": "markdown",
   "id": "8ccaa47c",
   "metadata": {},
   "source": [
    "---\n",
    "## Construction 3: obtention du total par année pour tous les secteurs:"
   ]
  },
  {
   "cell_type": "code",
   "execution_count": 23,
   "id": "e7210382",
   "metadata": {},
   "outputs": [
    {
     "data": {
      "text/plain": [
       "['Transports',\n",
       " 'Industries',\n",
       " 'Résidentiel, commercial et institutionnel',\n",
       " 'Agriculture',\n",
       " 'Matières résiduelles',\n",
       " 'Électricité']"
      ]
     },
     "execution_count": 23,
     "metadata": {},
     "output_type": "execute_result"
    }
   ],
   "source": [
    "# Afficher la liste des secteurs.\n",
    "secteurs"
   ]
  },
  {
   "cell_type": "code",
   "execution_count": 24,
   "id": "f303f9b3",
   "metadata": {},
   "outputs": [
    {
     "data": {
      "text/html": [
       "<div>\n",
       "<style scoped>\n",
       "    .dataframe tbody tr th:only-of-type {\n",
       "        vertical-align: middle;\n",
       "    }\n",
       "\n",
       "    .dataframe tbody tr th {\n",
       "        vertical-align: top;\n",
       "    }\n",
       "\n",
       "    .dataframe thead th {\n",
       "        text-align: right;\n",
       "    }\n",
       "</style>\n",
       "<table border=\"1\" class=\"dataframe\">\n",
       "  <thead>\n",
       "    <tr style=\"text-align: right;\">\n",
       "      <th></th>\n",
       "      <th>Emissions(t_eq_CO2)-Total</th>\n",
       "      <th>Emissions(t_eq_CO2)-Transports</th>\n",
       "      <th>Emissions(t_eq_CO2)-Industries</th>\n",
       "      <th>Emissions(t_eq_CO2)-Résidentiel, commercial et institutionnel</th>\n",
       "      <th>Emissions(t_eq_CO2)-Agriculture</th>\n",
       "      <th>Emissions(t_eq_CO2)-Matières résiduelles</th>\n",
       "      <th>Emissions(t_eq_CO2)-Électricité</th>\n",
       "    </tr>\n",
       "    <tr>\n",
       "      <th>Annee</th>\n",
       "      <th></th>\n",
       "      <th></th>\n",
       "      <th></th>\n",
       "      <th></th>\n",
       "      <th></th>\n",
       "      <th></th>\n",
       "      <th></th>\n",
       "    </tr>\n",
       "  </thead>\n",
       "  <tbody>\n",
       "    <tr>\n",
       "      <th>1990</th>\n",
       "      <td>8.525046e+07</td>\n",
       "      <td>2.720549e+07</td>\n",
       "      <td>3.207667e+07</td>\n",
       "      <td>1.121535e+07</td>\n",
       "      <td>7.117844e+06</td>\n",
       "      <td>6.242370e+06</td>\n",
       "      <td>1.392747e+06</td>\n",
       "    </tr>\n",
       "    <tr>\n",
       "      <th>1991</th>\n",
       "      <td>8.096232e+07</td>\n",
       "      <td>2.562506e+07</td>\n",
       "      <td>3.114813e+07</td>\n",
       "      <td>1.048791e+07</td>\n",
       "      <td>6.986795e+06</td>\n",
       "      <td>6.356778e+06</td>\n",
       "      <td>3.576496e+05</td>\n",
       "    </tr>\n",
       "    <tr>\n",
       "      <th>1992</th>\n",
       "      <td>8.011936e+07</td>\n",
       "      <td>2.617208e+07</td>\n",
       "      <td>2.946168e+07</td>\n",
       "      <td>1.119121e+07</td>\n",
       "      <td>6.920532e+06</td>\n",
       "      <td>5.544630e+06</td>\n",
       "      <td>8.292302e+05</td>\n",
       "    </tr>\n",
       "    <tr>\n",
       "      <th>1993</th>\n",
       "      <td>8.131694e+07</td>\n",
       "      <td>2.710587e+07</td>\n",
       "      <td>3.049741e+07</td>\n",
       "      <td>1.131267e+07</td>\n",
       "      <td>6.845626e+06</td>\n",
       "      <td>5.414277e+06</td>\n",
       "      <td>1.410925e+05</td>\n",
       "    </tr>\n",
       "    <tr>\n",
       "      <th>1994</th>\n",
       "      <td>8.274214e+07</td>\n",
       "      <td>2.846825e+07</td>\n",
       "      <td>3.057562e+07</td>\n",
       "      <td>1.130135e+07</td>\n",
       "      <td>6.903481e+06</td>\n",
       "      <td>5.293982e+06</td>\n",
       "      <td>1.994636e+05</td>\n",
       "    </tr>\n",
       "    <tr>\n",
       "      <th>1995</th>\n",
       "      <td>8.293150e+07</td>\n",
       "      <td>2.888283e+07</td>\n",
       "      <td>3.013029e+07</td>\n",
       "      <td>1.125606e+07</td>\n",
       "      <td>6.973976e+06</td>\n",
       "      <td>5.541953e+06</td>\n",
       "      <td>1.463866e+05</td>\n",
       "    </tr>\n",
       "    <tr>\n",
       "      <th>1996</th>\n",
       "      <td>8.298410e+07</td>\n",
       "      <td>2.905895e+07</td>\n",
       "      <td>3.003876e+07</td>\n",
       "      <td>1.159712e+07</td>\n",
       "      <td>7.075151e+06</td>\n",
       "      <td>5.082511e+06</td>\n",
       "      <td>1.316073e+05</td>\n",
       "    </tr>\n",
       "    <tr>\n",
       "      <th>1997</th>\n",
       "      <td>8.383858e+07</td>\n",
       "      <td>2.978185e+07</td>\n",
       "      <td>3.030741e+07</td>\n",
       "      <td>1.134331e+07</td>\n",
       "      <td>7.309203e+06</td>\n",
       "      <td>4.913877e+06</td>\n",
       "      <td>1.829265e+05</td>\n",
       "    </tr>\n",
       "    <tr>\n",
       "      <th>1998</th>\n",
       "      <td>8.517211e+07</td>\n",
       "      <td>3.046314e+07</td>\n",
       "      <td>3.054083e+07</td>\n",
       "      <td>1.013746e+07</td>\n",
       "      <td>7.413943e+06</td>\n",
       "      <td>5.058890e+06</td>\n",
       "      <td>1.557845e+06</td>\n",
       "    </tr>\n",
       "    <tr>\n",
       "      <th>1999</th>\n",
       "      <td>8.465540e+07</td>\n",
       "      <td>3.104853e+07</td>\n",
       "      <td>2.894797e+07</td>\n",
       "      <td>1.049810e+07</td>\n",
       "      <td>7.522661e+06</td>\n",
       "      <td>5.699894e+06</td>\n",
       "      <td>9.382496e+05</td>\n",
       "    </tr>\n",
       "    <tr>\n",
       "      <th>2000</th>\n",
       "      <td>8.459958e+07</td>\n",
       "      <td>3.082622e+07</td>\n",
       "      <td>2.938767e+07</td>\n",
       "      <td>1.164859e+07</td>\n",
       "      <td>7.347982e+06</td>\n",
       "      <td>5.057469e+06</td>\n",
       "      <td>3.316392e+05</td>\n",
       "    </tr>\n",
       "    <tr>\n",
       "      <th>2001</th>\n",
       "      <td>8.247052e+07</td>\n",
       "      <td>3.024779e+07</td>\n",
       "      <td>2.818682e+07</td>\n",
       "      <td>1.084302e+07</td>\n",
       "      <td>7.602759e+06</td>\n",
       "      <td>5.223678e+06</td>\n",
       "      <td>3.664495e+05</td>\n",
       "    </tr>\n",
       "    <tr>\n",
       "      <th>2002</th>\n",
       "      <td>8.410860e+07</td>\n",
       "      <td>3.090352e+07</td>\n",
       "      <td>2.849923e+07</td>\n",
       "      <td>1.151531e+07</td>\n",
       "      <td>7.682461e+06</td>\n",
       "      <td>5.272380e+06</td>\n",
       "      <td>2.356938e+05</td>\n",
       "    </tr>\n",
       "    <tr>\n",
       "      <th>2003</th>\n",
       "      <td>8.958743e+07</td>\n",
       "      <td>3.287521e+07</td>\n",
       "      <td>2.935429e+07</td>\n",
       "      <td>1.280374e+07</td>\n",
       "      <td>7.602666e+06</td>\n",
       "      <td>5.441654e+06</td>\n",
       "      <td>1.509874e+06</td>\n",
       "    </tr>\n",
       "    <tr>\n",
       "      <th>2004</th>\n",
       "      <td>8.904113e+07</td>\n",
       "      <td>3.321847e+07</td>\n",
       "      <td>2.947197e+07</td>\n",
       "      <td>1.237756e+07</td>\n",
       "      <td>7.891072e+06</td>\n",
       "      <td>4.826596e+06</td>\n",
       "      <td>1.255463e+06</td>\n",
       "    </tr>\n",
       "    <tr>\n",
       "      <th>2005</th>\n",
       "      <td>8.621064e+07</td>\n",
       "      <td>3.316216e+07</td>\n",
       "      <td>2.874145e+07</td>\n",
       "      <td>1.116592e+07</td>\n",
       "      <td>7.729128e+06</td>\n",
       "      <td>5.034448e+06</td>\n",
       "      <td>3.775383e+05</td>\n",
       "    </tr>\n",
       "    <tr>\n",
       "      <th>2006</th>\n",
       "      <td>8.514679e+07</td>\n",
       "      <td>3.307063e+07</td>\n",
       "      <td>2.912965e+07</td>\n",
       "      <td>9.894077e+06</td>\n",
       "      <td>7.728588e+06</td>\n",
       "      <td>5.110266e+06</td>\n",
       "      <td>2.135712e+05</td>\n",
       "    </tr>\n",
       "    <tr>\n",
       "      <th>2007</th>\n",
       "      <td>8.898720e+07</td>\n",
       "      <td>3.433262e+07</td>\n",
       "      <td>3.087027e+07</td>\n",
       "      <td>1.028535e+07</td>\n",
       "      <td>7.929902e+06</td>\n",
       "      <td>5.319508e+06</td>\n",
       "      <td>2.495480e+05</td>\n",
       "    </tr>\n",
       "    <tr>\n",
       "      <th>2008</th>\n",
       "      <td>8.458937e+07</td>\n",
       "      <td>3.450789e+07</td>\n",
       "      <td>2.758578e+07</td>\n",
       "      <td>9.296912e+06</td>\n",
       "      <td>7.859978e+06</td>\n",
       "      <td>5.105396e+06</td>\n",
       "      <td>2.334104e+05</td>\n",
       "    </tr>\n",
       "    <tr>\n",
       "      <th>2009</th>\n",
       "      <td>8.344091e+07</td>\n",
       "      <td>3.409714e+07</td>\n",
       "      <td>2.621085e+07</td>\n",
       "      <td>9.990479e+06</td>\n",
       "      <td>7.808115e+06</td>\n",
       "      <td>4.952334e+06</td>\n",
       "      <td>3.819920e+05</td>\n",
       "    </tr>\n",
       "    <tr>\n",
       "      <th>2010</th>\n",
       "      <td>8.126163e+07</td>\n",
       "      <td>3.401616e+07</td>\n",
       "      <td>2.546223e+07</td>\n",
       "      <td>9.018179e+06</td>\n",
       "      <td>7.824282e+06</td>\n",
       "      <td>4.733105e+06</td>\n",
       "      <td>2.076752e+05</td>\n",
       "    </tr>\n",
       "    <tr>\n",
       "      <th>2011</th>\n",
       "      <td>8.191538e+07</td>\n",
       "      <td>3.530230e+07</td>\n",
       "      <td>2.529553e+07</td>\n",
       "      <td>8.705855e+06</td>\n",
       "      <td>7.795096e+06</td>\n",
       "      <td>4.601622e+06</td>\n",
       "      <td>2.149811e+05</td>\n",
       "    </tr>\n",
       "    <tr>\n",
       "      <th>2012</th>\n",
       "      <td>8.020507e+07</td>\n",
       "      <td>3.468167e+07</td>\n",
       "      <td>2.540546e+07</td>\n",
       "      <td>7.517757e+06</td>\n",
       "      <td>7.907737e+06</td>\n",
       "      <td>4.485130e+06</td>\n",
       "      <td>2.073191e+05</td>\n",
       "    </tr>\n",
       "    <tr>\n",
       "      <th>2013</th>\n",
       "      <td>7.986842e+07</td>\n",
       "      <td>3.417136e+07</td>\n",
       "      <td>2.539231e+07</td>\n",
       "      <td>7.654704e+06</td>\n",
       "      <td>7.987980e+06</td>\n",
       "      <td>4.447976e+06</td>\n",
       "      <td>2.140966e+05</td>\n",
       "    </tr>\n",
       "    <tr>\n",
       "      <th>2014</th>\n",
       "      <td>7.837373e+07</td>\n",
       "      <td>3.267267e+07</td>\n",
       "      <td>2.535419e+07</td>\n",
       "      <td>7.923847e+06</td>\n",
       "      <td>7.771819e+06</td>\n",
       "      <td>4.429153e+06</td>\n",
       "      <td>2.220564e+05</td>\n",
       "    </tr>\n",
       "    <tr>\n",
       "      <th>2015</th>\n",
       "      <td>7.854424e+07</td>\n",
       "      <td>3.335087e+07</td>\n",
       "      <td>2.438307e+07</td>\n",
       "      <td>8.060023e+06</td>\n",
       "      <td>7.860339e+06</td>\n",
       "      <td>4.695534e+06</td>\n",
       "      <td>1.944028e+05</td>\n",
       "    </tr>\n",
       "    <tr>\n",
       "      <th>2016</th>\n",
       "      <td>7.851176e+07</td>\n",
       "      <td>3.367475e+07</td>\n",
       "      <td>2.347945e+07</td>\n",
       "      <td>8.198808e+06</td>\n",
       "      <td>7.900278e+06</td>\n",
       "      <td>5.032629e+06</td>\n",
       "      <td>2.258436e+05</td>\n",
       "    </tr>\n",
       "    <tr>\n",
       "      <th>2017</th>\n",
       "      <td>8.111818e+07</td>\n",
       "      <td>3.561482e+07</td>\n",
       "      <td>2.450676e+07</td>\n",
       "      <td>8.162234e+06</td>\n",
       "      <td>7.821708e+06</td>\n",
       "      <td>4.783654e+06</td>\n",
       "      <td>2.290030e+05</td>\n",
       "    </tr>\n",
       "    <tr>\n",
       "      <th>2018</th>\n",
       "      <td>8.104221e+07</td>\n",
       "      <td>3.568920e+07</td>\n",
       "      <td>2.449669e+07</td>\n",
       "      <td>8.051767e+06</td>\n",
       "      <td>7.919519e+06</td>\n",
       "      <td>4.649875e+06</td>\n",
       "      <td>2.351650e+05</td>\n",
       "    </tr>\n",
       "    <tr>\n",
       "      <th>2019</th>\n",
       "      <td>8.271558e+07</td>\n",
       "      <td>3.646536e+07</td>\n",
       "      <td>2.514983e+07</td>\n",
       "      <td>8.304411e+06</td>\n",
       "      <td>7.922154e+06</td>\n",
       "      <td>4.648564e+06</td>\n",
       "      <td>2.252593e+05</td>\n",
       "    </tr>\n",
       "    <tr>\n",
       "      <th>2020</th>\n",
       "      <td>7.401563e+07</td>\n",
       "      <td>3.164413e+07</td>\n",
       "      <td>2.267413e+07</td>\n",
       "      <td>7.098310e+06</td>\n",
       "      <td>7.875816e+06</td>\n",
       "      <td>4.494206e+06</td>\n",
       "      <td>2.290484e+05</td>\n",
       "    </tr>\n",
       "  </tbody>\n",
       "</table>\n",
       "</div>"
      ],
      "text/plain": [
       "       Emissions(t_eq_CO2)-Total  Emissions(t_eq_CO2)-Transports  \\\n",
       "Annee                                                              \n",
       "1990                8.525046e+07                    2.720549e+07   \n",
       "1991                8.096232e+07                    2.562506e+07   \n",
       "1992                8.011936e+07                    2.617208e+07   \n",
       "1993                8.131694e+07                    2.710587e+07   \n",
       "1994                8.274214e+07                    2.846825e+07   \n",
       "1995                8.293150e+07                    2.888283e+07   \n",
       "1996                8.298410e+07                    2.905895e+07   \n",
       "1997                8.383858e+07                    2.978185e+07   \n",
       "1998                8.517211e+07                    3.046314e+07   \n",
       "1999                8.465540e+07                    3.104853e+07   \n",
       "2000                8.459958e+07                    3.082622e+07   \n",
       "2001                8.247052e+07                    3.024779e+07   \n",
       "2002                8.410860e+07                    3.090352e+07   \n",
       "2003                8.958743e+07                    3.287521e+07   \n",
       "2004                8.904113e+07                    3.321847e+07   \n",
       "2005                8.621064e+07                    3.316216e+07   \n",
       "2006                8.514679e+07                    3.307063e+07   \n",
       "2007                8.898720e+07                    3.433262e+07   \n",
       "2008                8.458937e+07                    3.450789e+07   \n",
       "2009                8.344091e+07                    3.409714e+07   \n",
       "2010                8.126163e+07                    3.401616e+07   \n",
       "2011                8.191538e+07                    3.530230e+07   \n",
       "2012                8.020507e+07                    3.468167e+07   \n",
       "2013                7.986842e+07                    3.417136e+07   \n",
       "2014                7.837373e+07                    3.267267e+07   \n",
       "2015                7.854424e+07                    3.335087e+07   \n",
       "2016                7.851176e+07                    3.367475e+07   \n",
       "2017                8.111818e+07                    3.561482e+07   \n",
       "2018                8.104221e+07                    3.568920e+07   \n",
       "2019                8.271558e+07                    3.646536e+07   \n",
       "2020                7.401563e+07                    3.164413e+07   \n",
       "\n",
       "       Emissions(t_eq_CO2)-Industries  \\\n",
       "Annee                                   \n",
       "1990                     3.207667e+07   \n",
       "1991                     3.114813e+07   \n",
       "1992                     2.946168e+07   \n",
       "1993                     3.049741e+07   \n",
       "1994                     3.057562e+07   \n",
       "1995                     3.013029e+07   \n",
       "1996                     3.003876e+07   \n",
       "1997                     3.030741e+07   \n",
       "1998                     3.054083e+07   \n",
       "1999                     2.894797e+07   \n",
       "2000                     2.938767e+07   \n",
       "2001                     2.818682e+07   \n",
       "2002                     2.849923e+07   \n",
       "2003                     2.935429e+07   \n",
       "2004                     2.947197e+07   \n",
       "2005                     2.874145e+07   \n",
       "2006                     2.912965e+07   \n",
       "2007                     3.087027e+07   \n",
       "2008                     2.758578e+07   \n",
       "2009                     2.621085e+07   \n",
       "2010                     2.546223e+07   \n",
       "2011                     2.529553e+07   \n",
       "2012                     2.540546e+07   \n",
       "2013                     2.539231e+07   \n",
       "2014                     2.535419e+07   \n",
       "2015                     2.438307e+07   \n",
       "2016                     2.347945e+07   \n",
       "2017                     2.450676e+07   \n",
       "2018                     2.449669e+07   \n",
       "2019                     2.514983e+07   \n",
       "2020                     2.267413e+07   \n",
       "\n",
       "       Emissions(t_eq_CO2)-Résidentiel, commercial et institutionnel  \\\n",
       "Annee                                                                  \n",
       "1990                                        1.121535e+07               \n",
       "1991                                        1.048791e+07               \n",
       "1992                                        1.119121e+07               \n",
       "1993                                        1.131267e+07               \n",
       "1994                                        1.130135e+07               \n",
       "1995                                        1.125606e+07               \n",
       "1996                                        1.159712e+07               \n",
       "1997                                        1.134331e+07               \n",
       "1998                                        1.013746e+07               \n",
       "1999                                        1.049810e+07               \n",
       "2000                                        1.164859e+07               \n",
       "2001                                        1.084302e+07               \n",
       "2002                                        1.151531e+07               \n",
       "2003                                        1.280374e+07               \n",
       "2004                                        1.237756e+07               \n",
       "2005                                        1.116592e+07               \n",
       "2006                                        9.894077e+06               \n",
       "2007                                        1.028535e+07               \n",
       "2008                                        9.296912e+06               \n",
       "2009                                        9.990479e+06               \n",
       "2010                                        9.018179e+06               \n",
       "2011                                        8.705855e+06               \n",
       "2012                                        7.517757e+06               \n",
       "2013                                        7.654704e+06               \n",
       "2014                                        7.923847e+06               \n",
       "2015                                        8.060023e+06               \n",
       "2016                                        8.198808e+06               \n",
       "2017                                        8.162234e+06               \n",
       "2018                                        8.051767e+06               \n",
       "2019                                        8.304411e+06               \n",
       "2020                                        7.098310e+06               \n",
       "\n",
       "       Emissions(t_eq_CO2)-Agriculture  \\\n",
       "Annee                                    \n",
       "1990                      7.117844e+06   \n",
       "1991                      6.986795e+06   \n",
       "1992                      6.920532e+06   \n",
       "1993                      6.845626e+06   \n",
       "1994                      6.903481e+06   \n",
       "1995                      6.973976e+06   \n",
       "1996                      7.075151e+06   \n",
       "1997                      7.309203e+06   \n",
       "1998                      7.413943e+06   \n",
       "1999                      7.522661e+06   \n",
       "2000                      7.347982e+06   \n",
       "2001                      7.602759e+06   \n",
       "2002                      7.682461e+06   \n",
       "2003                      7.602666e+06   \n",
       "2004                      7.891072e+06   \n",
       "2005                      7.729128e+06   \n",
       "2006                      7.728588e+06   \n",
       "2007                      7.929902e+06   \n",
       "2008                      7.859978e+06   \n",
       "2009                      7.808115e+06   \n",
       "2010                      7.824282e+06   \n",
       "2011                      7.795096e+06   \n",
       "2012                      7.907737e+06   \n",
       "2013                      7.987980e+06   \n",
       "2014                      7.771819e+06   \n",
       "2015                      7.860339e+06   \n",
       "2016                      7.900278e+06   \n",
       "2017                      7.821708e+06   \n",
       "2018                      7.919519e+06   \n",
       "2019                      7.922154e+06   \n",
       "2020                      7.875816e+06   \n",
       "\n",
       "       Emissions(t_eq_CO2)-Matières résiduelles  \\\n",
       "Annee                                             \n",
       "1990                               6.242370e+06   \n",
       "1991                               6.356778e+06   \n",
       "1992                               5.544630e+06   \n",
       "1993                               5.414277e+06   \n",
       "1994                               5.293982e+06   \n",
       "1995                               5.541953e+06   \n",
       "1996                               5.082511e+06   \n",
       "1997                               4.913877e+06   \n",
       "1998                               5.058890e+06   \n",
       "1999                               5.699894e+06   \n",
       "2000                               5.057469e+06   \n",
       "2001                               5.223678e+06   \n",
       "2002                               5.272380e+06   \n",
       "2003                               5.441654e+06   \n",
       "2004                               4.826596e+06   \n",
       "2005                               5.034448e+06   \n",
       "2006                               5.110266e+06   \n",
       "2007                               5.319508e+06   \n",
       "2008                               5.105396e+06   \n",
       "2009                               4.952334e+06   \n",
       "2010                               4.733105e+06   \n",
       "2011                               4.601622e+06   \n",
       "2012                               4.485130e+06   \n",
       "2013                               4.447976e+06   \n",
       "2014                               4.429153e+06   \n",
       "2015                               4.695534e+06   \n",
       "2016                               5.032629e+06   \n",
       "2017                               4.783654e+06   \n",
       "2018                               4.649875e+06   \n",
       "2019                               4.648564e+06   \n",
       "2020                               4.494206e+06   \n",
       "\n",
       "       Emissions(t_eq_CO2)-Électricité  \n",
       "Annee                                   \n",
       "1990                      1.392747e+06  \n",
       "1991                      3.576496e+05  \n",
       "1992                      8.292302e+05  \n",
       "1993                      1.410925e+05  \n",
       "1994                      1.994636e+05  \n",
       "1995                      1.463866e+05  \n",
       "1996                      1.316073e+05  \n",
       "1997                      1.829265e+05  \n",
       "1998                      1.557845e+06  \n",
       "1999                      9.382496e+05  \n",
       "2000                      3.316392e+05  \n",
       "2001                      3.664495e+05  \n",
       "2002                      2.356938e+05  \n",
       "2003                      1.509874e+06  \n",
       "2004                      1.255463e+06  \n",
       "2005                      3.775383e+05  \n",
       "2006                      2.135712e+05  \n",
       "2007                      2.495480e+05  \n",
       "2008                      2.334104e+05  \n",
       "2009                      3.819920e+05  \n",
       "2010                      2.076752e+05  \n",
       "2011                      2.149811e+05  \n",
       "2012                      2.073191e+05  \n",
       "2013                      2.140966e+05  \n",
       "2014                      2.220564e+05  \n",
       "2015                      1.944028e+05  \n",
       "2016                      2.258436e+05  \n",
       "2017                      2.290030e+05  \n",
       "2018                      2.351650e+05  \n",
       "2019                      2.252593e+05  \n",
       "2020                      2.290484e+05  "
      ]
     },
     "execution_count": 24,
     "metadata": {},
     "output_type": "execute_result"
    }
   ],
   "source": [
    "# Initialiser la DataFrame résultante avec le total global par année.\n",
    "df_secteurs_total = df_total\n",
    "\n",
    "# Boucle sur chaque secteur pour calculer et fusionner les totaux par année.\n",
    "for secteur in secteurs:\n",
    "    # Filtrer les données pour le secteur en cours.\n",
    "    df_secteur = df[df['Secteur']==secteur]\n",
    "    # Calculer le total des émissions par année pour le secteur en cours.\n",
    "    df_secteur_total = df_secteur[['Annee','Emissions(t_eq_CO2)']].groupby('Annee').sum()\n",
    "    # Renommer la colonne des émissions pour indiquer qu'il s'agit des émissions pour le secteur en cours.\n",
    "    df_secteur_total = df_secteur_total.rename(columns={\"Emissions(t_eq_CO2)\": f'Emissions(t_eq_CO2)-{secteur}'})\n",
    "    # Fusionner les totaux par secteur avec la DataFrame résultante.\n",
    "    df_secteurs_total = df_secteurs_total.merge(df_secteur_total, on=[\"Annee\"])\n",
    "\n",
    "df_secteurs_total  "
   ]
  },
  {
   "cell_type": "code",
   "execution_count": 25,
   "id": "c24fe48f",
   "metadata": {},
   "outputs": [
    {
     "data": {
      "text/plain": [
       "<matplotlib.legend.Legend at 0x1185da1b0>"
      ]
     },
     "execution_count": 25,
     "metadata": {},
     "output_type": "execute_result"
    },
    {
     "data": {
      "image/png": "[encoded data removed]",
      "text/plain": [
       "<Figure size 640x480 with 1 Axes>"
      ]
     },
     "metadata": {},
     "output_type": "display_data"
    }
   ],
   "source": [
    "# Tracer les données pour visualiser les émissions par secteur et par année.\n",
    "ax = df_secteurs_total.plot(xlabel=\"années\", ylabel=\"Emissions (t_eq_CO2)\", title='Émissions en fonction du temps')\n",
    "# Positionner la légende à côté du graphique\n",
    "ax.legend(loc='center left', bbox_to_anchor=(1, 0.5))"
   ]
  },
  {
   "cell_type": "markdown",
   "id": "cd520ef6",
   "metadata": {
    "lines_to_next_cell": 0
   },
   "source": [
    "---\n",
    "# Exportation de la nouvelle dataframe:"
   ]
  },
  {
   "cell_type": "code",
   "execution_count": 26,
   "id": "2e8f1b19",
   "metadata": {
    "lines_to_next_cell": 0
   },
   "outputs": [],
   "source": [
    "# Exporter la DataFrame résultante vers un fichier Excel.\n",
    "df_secteurs_total.to_excel(\"../output/df_secteurs_total.xlsx\",sheet_name='Emissions(t_eq_CO2) par secteur') "
   ]
  },
  {
   "cell_type": "code",
   "execution_count": 27,
   "id": "ca4089c3",
   "metadata": {
    "lines_to_next_cell": 2
   },
   "outputs": [],
   "source": [
    "# Exporter la DataFrame résultante vers un fichier CSV.\n",
    "df_secteurs_total.to_csv(\"../output/df_secteurs_total.csv\") "
   ]
  }
 ],
 "metadata": {
  "kernelspec": {
   "display_name": "Python 3 (ipykernel)",
   "language": "python",
   "name": "python3"
  },
  "language_info": {
   "codemirror_mode": {
    "name": "ipython",
    "version": 3
   },
   "file_extension": ".py",
   "mimetype": "text/x-python",
   "name": "python",
   "nbconvert_exporter": "python",
   "pygments_lexer": "ipython3",
   "version": "3.8.5"
  }
 },
 "nbformat": 4,
 "nbformat_minor": 5
}
