{
 "cells": [
  {
   "cell_type": "markdown",
   "id": "957ca333",
   "metadata": {
    "lines_to_next_cell": 2
   },
   "source": [
    "# Démonstration sur les structures de contrôle : \n",
    "---\n",
    "<div style=\"text-align: center;\">\n",
    "    <div style=\"display: inline-block; position: relative; width: 350px;\">\n",
    "        <img src=\"../img/banner.webp\" alt=\"Dessin\" style=\"width: 100%;\"/>\n",
    "        <p style=\"text-align: center; margin-top: 5px;\">\n",
    "            <span style=\"font-style: italic; font-size: 16px;\"> Et si?</span><br/>\n",
    "            <span style=\"font-style: italic; font-size: 12px;\">Image générée par DALL·E 3, 2024 </span>\n",
    "        </p>\n",
    "    </div>\n",
    "</div>"
   ]
  },
  {
   "cell_type": "markdown",
   "id": "f5bd68de",
   "metadata": {
    "lines_to_next_cell": 2
   },
   "source": [
    "---\n",
    "# Objectifs:\n",
    "- Utiliser les structures de contrôle `if` `else` `elif`\n",
    "- Utiliser les opérateurs logiques booléens `and` `or` `True` `False` `not`\n",
    "- Utiliser les opérateurs de comparaison `>` `<` `<=` `>=` `==`  \n"
   ]
  },
  {
   "cell_type": "markdown",
   "id": "dc5ddf7d",
   "metadata": {},
   "source": [
    "---\n",
    "# Opérateurs de comparaison (`>` `<` `<=` `>=` `==`)\n",
    "Vous pouvez utiliser les opérateurs ci-haut pour comparer des valeurs dans des conditions.\n",
    "- `>` : Plus grand que\n",
    "- `<` : Plus petit que\n",
    "- `>=` : Plus grand ou égal à\n",
    "- `<=` : Plus petit ou égal à\n",
    "- `==` : Égal à"
   ]
  },
  {
   "cell_type": "markdown",
   "id": "6ba7d1e8",
   "metadata": {},
   "source": [
    "---\n",
    "# Structures de contrôle (`if` `else` `elif`)"
   ]
  },
  {
   "cell_type": "markdown",
   "id": "cc3b94cc",
   "metadata": {},
   "source": [
    "Entrez une altitude en mètres.  "
   ]
  },
  {
   "cell_type": "code",
   "execution_count": 1,
   "id": "2a751f99",
   "metadata": {},
   "outputs": [],
   "source": [
    "# Point d'ébullition de l'eau au niveau de la mer (en degrés Celsius)\n",
    "ebullition_niveau_mer = 100 \n",
    "altitude = 900  # Altitude en mètres"
   ]
  },
  {
   "cell_type": "markdown",
   "id": "4545b271",
   "metadata": {
    "lines_to_next_cell": 2
   },
   "source": [
    "Pour exécuter du code de façon conditionnelle (dans un cas précis seulement) \n",
    "vous pouvez utiliser le mot clé **If**.  \n",
    "Ici par exemple, le message d'erreur ne s'affiche que si l'altitude entrée est inférieur à 0."
   ]
  },
  {
   "cell_type": "code",
   "execution_count": 2,
   "id": "fedfaa93",
   "metadata": {},
   "outputs": [],
   "source": [
    "# Changez la valeur de l'altitude et réévaluez cette cellule.\n",
    "if altitude < 0:\n",
    "    print(\"Erreur: L'altitude ne peut pas être négative.\")"
   ]
  },
  {
   "cell_type": "markdown",
   "id": "fac2d1a1",
   "metadata": {},
   "source": [
    "Pour gérer plus d'un cas possible, on utilise le mot clé **elif** pour else if (sinon si) "
   ]
  },
  {
   "cell_type": "code",
   "execution_count": 3,
   "id": "4d3140a5",
   "metadata": {},
   "outputs": [],
   "source": [
    "# Changez la valeur de l'altitude pour 0 et réévaluez cette cellule\n",
    "if altitude < 0:\n",
    "    print(\"Erreur: L'altitude ne peut pas être négative.\")\n",
    "elif altitude == 0:\n",
    "    print(f\"Au niveau de la mer, l'eau bout à {ebullition_niveau_mer}°C.\")"
   ]
  },
  {
   "cell_type": "markdown",
   "id": "d4c868d3",
   "metadata": {},
   "source": [
    "Pour gèrer les cas restant (ceux auxquel aucun condition ne s'applique) vous pouvez utiliser le mot clé **else**"
   ]
  },
  {
   "cell_type": "code",
   "execution_count": 4,
   "id": "8858632d",
   "metadata": {},
   "outputs": [
    {
     "name": "stdout",
     "output_type": "stream",
     "text": [
      "À une altitude de 900 mètres, l'eau bout à 97.00°C.\n"
     ]
    }
   ],
   "source": [
    "# Changez la valeur de l'altitude pour 0 et réévaluez cette cellule\n",
    "if altitude < 0:\n",
    "    print(\"Erreur: L'altitude ne peut pas être négative.\")\n",
    "elif altitude == 0:\n",
    "    print(f\"Au niveau de la mer, l'eau bout à {ebullition_niveau_mer}°C.\")\n",
    "else:\n",
    "    # Calcul du point d'ébullition\n",
    "    # Le point d'ébullition de l'eau diminue d'environ 1 degré tous les 300 mètres d'altitude\n",
    "    reduction_temp = altitude / 300\n",
    "    point_ebullition = ebullition_niveau_mer - reduction_temp\n",
    "    print(f\"À une altitude de {altitude} mètres, l'eau bout à {point_ebullition:.2f}°C.\")"
   ]
  },
  {
   "cell_type": "markdown",
   "id": "65d54f4f",
   "metadata": {
    "lines_to_next_cell": 0
   },
   "source": [
    "---\n",
    "# Opérateurs booléens (`and` `or` `True` `False` `not`)"
   ]
  },
  {
   "cell_type": "code",
   "execution_count": 5,
   "id": "2f12fe53",
   "metadata": {},
   "outputs": [],
   "source": [
    "# Supposons que nous avons des conditions spéciales pour des expériences scientifiques\n",
    "temperature_ideale = 97  # Température idéale pour une expérience\n",
    "altitude_ideale_min = 901  # Altitude minimale idéale\n",
    "altitude_ideale_max = 2500  # Altitude maximale idéale"
   ]
  },
  {
   "cell_type": "markdown",
   "id": "f2d80e43",
   "metadata": {},
   "source": [
    "Pour vérifier si deux conditions sont vraies en même temps, on utilise l'opérateur booléen **and**"
   ]
  },
  {
   "cell_type": "code",
   "execution_count": 6,
   "id": "996d8161",
   "metadata": {},
   "outputs": [
    {
     "name": "stdout",
     "output_type": "stream",
     "text": [
      "L'altitude n'est pas idéale pour l'expérience.\n"
     ]
    }
   ],
   "source": [
    "# Il faut obligatoirement que les deux conditions soient évaluées comme vraies pour entrer dans le 'if'\n",
    "if (altitude_ideale_min <= altitude <= altitude_ideale_max) and (point_ebullition <= temperature_ideale):\n",
    "    print(\"L'altitude est idéale pour l'expérience scientifique.\")\n",
    "else:\n",
    "    print(\"L'altitude n'est pas idéale pour l'expérience.\")"
   ]
  },
  {
   "cell_type": "markdown",
   "id": "8f7b1695",
   "metadata": {},
   "source": [
    "Pour vérifier si **au moins une** des conditions est vraie, on utilise l'opérateur booléen **or**"
   ]
  },
  {
   "cell_type": "code",
   "execution_count": 7,
   "id": "b6649523",
   "metadata": {},
   "outputs": [
    {
     "name": "stdout",
     "output_type": "stream",
     "text": [
      "Les conditions sont parfaites pour l'ébullition standard de l'eau ou une expérience idéale.\n"
     ]
    }
   ],
   "source": [
    "# Tant qu'une des deux conditions est vraie, on entre dans le 'if'\n",
    "if (point_ebullition == temperature_ideale) or (altitude == 0):\n",
    "    print(\"Les conditions sont parfaites pour l'ébullition standard de l'eau ou une expérience idéale.\")"
   ]
  },
  {
   "cell_type": "markdown",
   "id": "de294704",
   "metadata": {},
   "source": [
    "Pour vérifier si une condition est fausse, on utilise l'opérateur booléen **not**"
   ]
  },
  {
   "cell_type": "code",
   "execution_count": 8,
   "id": "47a6ee7c",
   "metadata": {},
   "outputs": [
    {
     "name": "stdout",
     "output_type": "stream",
     "text": [
      "L'altitude est soit trop basse, soit trop haute pour effectuer des expériences.\n"
     ]
    }
   ],
   "source": [
    "# Si la condition est évaluée à False, on entre dans le 'if'\n",
    "if not (altitude_ideale_min <= altitude <= altitude_ideale_max):\n",
    "    print(\"L'altitude est soit trop basse, soit trop haute pour effectuer des expériences.\")"
   ]
  },
  {
   "cell_type": "markdown",
   "id": "10f7b521",
   "metadata": {},
   "source": [
    "Toute expression booléenne peut être évaluée à `True` ou `False` (Vrai ou Faux).  \n",
    "Il est possible d'assigner ces valeurs à des variables ou de les utiliser directement dans des conditions."
   ]
  },
  {
   "cell_type": "code",
   "execution_count": 9,
   "id": "36a17b1c",
   "metadata": {},
   "outputs": [],
   "source": [
    "# Assignation de valeurs booléennes à des variables\n",
    "volcanAProximite = True\n",
    "humiditeElevee = False\n",
    "surUneMontagne = altitude >= 800\n",
    "\n",
    "# Calculer le point d'ébullition de base en fonction de l'altitude\n",
    "reduction_temp = altitude / 300\n",
    "point_ebullition = ebullition_niveau_mer - reduction_temp"
   ]
  },
  {
   "cell_type": "markdown",
   "id": "a5759516",
   "metadata": {},
   "source": [
    "Comme ces valeurs sont des expressions booléennes, elles peuvent être utilisées directement dans des conditions."
   ]
  },
  {
   "cell_type": "code",
   "execution_count": 10,
   "id": "624ebe59",
   "metadata": {},
   "outputs": [
    {
     "name": "stdout",
     "output_type": "stream",
     "text": [
      "À une altitude de 900 mètres, l'eau bout à 98.00°C.\n"
     ]
    }
   ],
   "source": [
    "# Ajuster le point d'ébullition en fonction des conditions spéciales\n",
    "if volcanAProximite:\n",
    "    # Près d'un volcan, le point d'ébullition pourrait être affecté par des gaz géothermiques\n",
    "    point_ebullition += 1  # Hypothétique: Augmenter le point d'ébullition de 1 degré\n",
    "\n",
    "if humiditeElevee and surUneMontagne:\n",
    "    # Haute altitude combinée avec une humidité élevée pourrait augmenter le point d'ébullition\n",
    "    point_ebullition += 0.5  # Hypothétique: Augmenter le point d'ébullition de 0.5 degré\n",
    "\n",
    "# Changez les valeurs des conditions spéciales et réévaluez cette cellule\n",
    "print(f\"À une altitude de {altitude} mètres, l'eau bout à {point_ebullition:.2f}°C.\")"
   ]
  },
  {
   "cell_type": "code",
   "execution_count": null,
   "id": "69131d88",
   "metadata": {},
   "outputs": [],
   "source": []
  }
 ],
 "metadata": {
  "kernelspec": {
   "display_name": "Python 3 (ipykernel)",
   "language": "python",
   "name": "python3"
  },
  "language_info": {
   "codemirror_mode": {
    "name": "ipython",
    "version": 3
   },
   "file_extension": ".py",
   "mimetype": "text/x-python",
   "name": "python",
   "nbconvert_exporter": "python",
   "pygments_lexer": "ipython3",
   "version": "3.8.5"
  }
 },
 "nbformat": 4,
 "nbformat_minor": 5
}
